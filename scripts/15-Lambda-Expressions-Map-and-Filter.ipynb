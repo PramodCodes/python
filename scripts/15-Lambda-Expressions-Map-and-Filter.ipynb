{
 "cells": [
  {
   "cell_type": "markdown",
   "metadata": {},
   "source": [
    "# Lambda Expressions, Map, and Filter\n",
    "\n",
    "Now its time to quickly learn about two built in functions, filter and map. Once we learn about how these operate, we can learn about the lambda expression, which will come in handy when you begin to develop your skills further!"
   ]
  },
  {
   "cell_type": "markdown",
   "metadata": {},
   "source": [
    "## map function\n",
    "\n",
    "The **map** function allows you to \"map\" a function to an iterable object. That is to say you can quickly call the same function to every item in an iterable, such as a list. For example:"
   ]
  },
  {
   "cell_type": "code",
   "execution_count": 1,
   "metadata": {
    "collapsed": true
   },
   "outputs": [],
   "source": [
    "def square(num):\n",
    "    return num**2"
   ]
  },
  {
   "cell_type": "code",
   "execution_count": 2,
   "metadata": {
    "collapsed": true
   },
   "outputs": [],
   "source": [
    "my_nums = [1,2,3,4,5]"
   ]
  },
  {
   "cell_type": "code",
   "execution_count": 3,
   "metadata": {},
   "outputs": [
    {
     "data": {
      "text/plain": [
       "<map at 0x28ab9b174c0>"
      ]
     },
     "execution_count": 3,
     "metadata": {},
     "output_type": "execute_result"
    }
   ],
   "source": [
    "map(square,my_nums)"
   ]
  },
  {
   "cell_type": "code",
   "execution_count": 4,
   "metadata": {},
   "outputs": [
    {
     "data": {
      "text/plain": [
       "[1, 4, 9, 16, 25]"
      ]
     },
     "execution_count": 4,
     "metadata": {},
     "output_type": "execute_result"
    }
   ],
   "source": [
    "# To get the results, either iterate through map() \n",
    "# or just cast to a list\n",
    "list(map(square,my_nums))"
   ]
  },
  {
   "cell_type": "markdown",
   "metadata": {},
   "source": [
    "The functions can also be more complex"
   ]
  },
  {
   "cell_type": "code",
   "execution_count": 5,
   "metadata": {
    "collapsed": true
   },
   "outputs": [],
   "source": [
    "def splicer(mystring):\n",
    "    if len(mystring) % 2 == 0:\n",
    "        return 'even'\n",
    "    else:\n",
    "        return mystring[0]"
   ]
  },
  {
   "cell_type": "code",
   "execution_count": 6,
   "metadata": {
    "collapsed": true
   },
   "outputs": [],
   "source": [
    "mynames = ['John','Cindy','Sarah','Kelly','Mike']"
   ]
  },
  {
   "cell_type": "code",
   "execution_count": 7,
   "metadata": {},
   "outputs": [
    {
     "data": {
      "text/plain": [
       "['even', 'C', 'S', 'K', 'even']"
      ]
     },
     "execution_count": 7,
     "metadata": {},
     "output_type": "execute_result"
    }
   ],
   "source": [
    "list(map(splicer,mynames))"
   ]
  },
  {
   "cell_type": "markdown",
   "metadata": {},
   "source": [
    "## filter function\n",
    "\n",
    "The filter function returns an iterator yielding those items of iterable for which function(item)\n",
    "is true. Meaning you need to filter by a function that returns either True or False. Then passing that into filter (along with your iterable) and you will get back only the results that would return True when passed to the function."
   ]
  },
  {
   "cell_type": "code",
   "execution_count": 8,
   "metadata": {
    "collapsed": true
   },
   "outputs": [],
   "source": [
    "def check_even(num):\n",
    "    return num % 2 == 0 "
   ]
  },
  {
   "cell_type": "code",
   "execution_count": 9,
   "metadata": {
    "collapsed": true
   },
   "outputs": [],
   "source": [
    "nums = [0,1,2,3,4,5,6,7,8,9,10]"
   ]
  },
  {
   "cell_type": "code",
   "execution_count": 10,
   "metadata": {},
   "outputs": [
    {
     "data": {
      "text/plain": [
       "<filter at 0x28ab9b171c0>"
      ]
     },
     "execution_count": 10,
     "metadata": {},
     "output_type": "execute_result"
    }
   ],
   "source": [
    "filter(check_even,nums)"
   ]
  },
  {
   "cell_type": "code",
   "execution_count": 11,
   "metadata": {},
   "outputs": [
    {
     "data": {
      "text/plain": [
       "[0, 2, 4, 6, 8, 10]"
      ]
     },
     "execution_count": 11,
     "metadata": {},
     "output_type": "execute_result"
    }
   ],
   "source": [
    "list(filter(check_even,nums))"
   ]
  },
  {
   "cell_type": "markdown",
   "metadata": {
    "collapsed": true
   },
   "source": [
    "## lambda expression\n",
    "\n",
    "One of Pythons most useful (and for beginners, confusing) tools is the lambda expression. lambda expressions allow us to create \"anonymous\" functions. This basically means we can quickly make ad-hoc functions without needing to properly define a function using def.\n",
    "\n",
    "Function objects returned by running lambda expressions work exactly the same as those created and assigned by defs. There is key difference that makes lambda useful in specialized roles:\n",
    "\n",
    "**lambda's body is a single expression, not a block of statements.**\n",
    "\n",
    "* The lambda's body is similar to what we would put in a def body's return statement. We simply type the result as an expression instead of explicitly returning it. Because it is limited to an expression, a lambda is less general that a def. We can only squeeze design, to limit program nesting. lambda is designed for coding simple functions, and def handles the larger tasks."
   ]
  },
  {
   "cell_type": "markdown",
   "metadata": {},
   "source": [
    "Lets slowly break down a lambda expression by deconstructing a function:"
   ]
  },
  {
   "cell_type": "code",
   "execution_count": 12,
   "metadata": {
    "collapsed": true
   },
   "outputs": [],
   "source": [
    "def square(num):\n",
    "    result = num**2\n",
    "    return result"
   ]
  },
  {
   "cell_type": "code",
   "execution_count": 13,
   "metadata": {},
   "outputs": [
    {
     "data": {
      "text/plain": [
       "4"
      ]
     },
     "execution_count": 13,
     "metadata": {},
     "output_type": "execute_result"
    }
   ],
   "source": [
    "square(2)"
   ]
  },
  {
   "cell_type": "markdown",
   "metadata": {},
   "source": [
    "We could simplify it:"
   ]
  },
  {
   "cell_type": "code",
   "execution_count": 14,
   "metadata": {
    "collapsed": true
   },
   "outputs": [],
   "source": [
    "def square(num):\n",
    "    return num**2"
   ]
  },
  {
   "cell_type": "code",
   "execution_count": 15,
   "metadata": {},
   "outputs": [
    {
     "data": {
      "text/plain": [
       "4"
      ]
     },
     "execution_count": 15,
     "metadata": {},
     "output_type": "execute_result"
    }
   ],
   "source": [
    "square(2)"
   ]
  },
  {
   "cell_type": "markdown",
   "metadata": {},
   "source": [
    "We could actually even write this all on one line."
   ]
  },
  {
   "cell_type": "code",
   "execution_count": 16,
   "metadata": {
    "collapsed": true
   },
   "outputs": [],
   "source": [
    "def square(num): return num**2"
   ]
  },
  {
   "cell_type": "code",
   "execution_count": 17,
   "metadata": {},
   "outputs": [
    {
     "data": {
      "text/plain": [
       "4"
      ]
     },
     "execution_count": 17,
     "metadata": {},
     "output_type": "execute_result"
    }
   ],
   "source": [
    "square(2)"
   ]
  },
  {
   "cell_type": "markdown",
   "metadata": {},
   "source": [
    "This is the form a function that a lambda expression intends to replicate. A lambda expression can then be written as:"
   ]
  },
  {
   "cell_type": "code",
   "execution_count": 18,
   "metadata": {},
   "outputs": [
    {
     "data": {
      "text/plain": [
       "<function __main__.<lambda>(num)>"
      ]
     },
     "execution_count": 18,
     "metadata": {},
     "output_type": "execute_result"
    }
   ],
   "source": [
    "lambda num: num ** 2"
   ]
  },
  {
   "cell_type": "code",
   "execution_count": 19,
   "metadata": {
    "collapsed": true
   },
   "outputs": [],
   "source": [
    "# You wouldn't usually assign a name to a lambda expression, this is just for demonstration!\n",
    "square = lambda num: num **2"
   ]
  },
  {
   "cell_type": "code",
   "execution_count": 20,
   "metadata": {},
   "outputs": [
    {
     "data": {
      "text/plain": [
       "4"
      ]
     },
     "execution_count": 20,
     "metadata": {},
     "output_type": "execute_result"
    }
   ],
   "source": [
    "square(2)"
   ]
  },
  {
   "cell_type": "markdown",
   "metadata": {},
   "source": [
    "So why would use this? Many function calls need a function passed in, such as map and filter. Often you only need to use the function you are passing in once, so instead of formally defining it, you just use the lambda expression. Let's repeat some of the examples from above with a lambda expression"
   ]
  },
  {
   "cell_type": "code",
   "execution_count": 21,
   "metadata": {},
   "outputs": [
    {
     "data": {
      "text/plain": [
       "[1, 2, 3, 4, 5]"
      ]
     },
     "execution_count": 21,
     "metadata": {},
     "output_type": "execute_result"
    }
   ],
   "source": [
    "my_nums"
   ]
  },
  {
   "cell_type": "code",
   "execution_count": 22,
   "metadata": {},
   "outputs": [
    {
     "data": {
      "text/plain": [
       "[1, 4, 9, 16, 25]"
      ]
     },
     "execution_count": 22,
     "metadata": {},
     "output_type": "execute_result"
    }
   ],
   "source": [
    "list(map(lambda num: num ** 2, my_nums))"
   ]
  },
  {
   "cell_type": "code",
   "execution_count": 23,
   "metadata": {},
   "outputs": [
    {
     "data": {
      "text/plain": [
       "[0, 1, 2, 3, 4, 5, 6, 7, 8, 9, 10]"
      ]
     },
     "execution_count": 23,
     "metadata": {},
     "output_type": "execute_result"
    }
   ],
   "source": [
    "nums"
   ]
  },
  {
   "cell_type": "code",
   "execution_count": 24,
   "metadata": {},
   "outputs": [
    {
     "data": {
      "text/plain": [
       "[0, 2, 4, 6, 8, 10]"
      ]
     },
     "execution_count": 24,
     "metadata": {},
     "output_type": "execute_result"
    }
   ],
   "source": [
    "list(filter(lambda n: n % 2 == 0,nums))"
   ]
  },
  {
   "cell_type": "markdown",
   "metadata": {},
   "source": [
    "Here are a few more examples, keep in mind the more comples a function is, the harder it is to translate into a lambda expression, meaning sometimes its just easier (and often the only way) to create the def keyword function."
   ]
  },
  {
   "cell_type": "markdown",
   "metadata": {},
   "source": [
    "** Lambda expression for grabbing the first character of a string: **"
   ]
  },
  {
   "cell_type": "code",
   "execution_count": 25,
   "metadata": {},
   "outputs": [
    {
     "data": {
      "text/plain": [
       "<function __main__.<lambda>(s)>"
      ]
     },
     "execution_count": 25,
     "metadata": {},
     "output_type": "execute_result"
    }
   ],
   "source": [
    "lambda s: s[0]"
   ]
  },
  {
   "cell_type": "markdown",
   "metadata": {},
   "source": [
    "** Lambda expression for reversing a string: **"
   ]
  },
  {
   "cell_type": "code",
   "execution_count": 26,
   "metadata": {},
   "outputs": [
    {
     "name": "stdout",
     "output_type": "stream",
     "text": [
      "tset\n"
     ]
    }
   ],
   "source": [
    "reverse = lambda s: s[::-1]\n",
    "print(reverse('test'))"
   ]
  },
  {
   "cell_type": "markdown",
   "metadata": {},
   "source": [
    "You can even pass in multiple arguments into a lambda expression. Again, keep in mind that not every function can be translated into a lambda expression."
   ]
  },
  {
   "cell_type": "code",
   "execution_count": 27,
   "metadata": {},
   "outputs": [
    {
     "data": {
      "text/plain": [
       "<function __main__.<lambda>(x, y)>"
      ]
     },
     "execution_count": 27,
     "metadata": {},
     "output_type": "execute_result"
    }
   ],
   "source": [
    "lambda x,y : x + y"
   ]
  },
  {
   "cell_type": "markdown",
   "metadata": {},
   "source": [
    "You will find yourself using lambda expressions often with certain non-built-in libraries, for example the pandas library for data analysis works very well with lambda expressions."
   ]
  },
  {
   "cell_type": "code",
   "execution_count": null,
   "metadata": {},
   "outputs": [],
   "source": [
    "# Take input from user and perform the sum of all the numbers that are provide by him and print the result\n",
    "# 1 2 3 4 5 -> 15\n",
    "\n",
    "user_input = input(\"Please enter values that are separated by space:\")\n",
    "print(type(user_input))\n",
    "split_input = user_input.split(' ')\n",
    "print(split_input)\n",
    "int_input = list(map(int, split_input))\n",
    "print(int_input)\n",
    "input_sum = sum(int_input)\n",
    "print(input_sum)"
   ]
  },
  {
   "cell_type": "code",
   "execution_count": null,
   "metadata": {},
   "outputs": [
    {
     "name": "stdout",
     "output_type": "stream",
     "text": [
      "15\n"
     ]
    }
   ],
   "source": [
    "result = sum(list(map(int, input(\"Please enter values that are separated by space:\").split(' '))))\n",
    "print(result)"
   ]
  },
  {
   "cell_type": "markdown",
   "metadata": {},
   "source": [
    "## **Functions vs. Lambda Expressions in Python**  \n",
    "\n",
    "Both **functions** and **lambda expressions** are used to define reusable blocks of code, but they have key differences in terms of syntax, functionality, and use cases.\n",
    "\n",
    "---\n",
    "\n",
    "## **1. Functions (`def` keyword)**\n",
    "📌 **Definition:**  \n",
    "- A **function** is a named block of reusable code defined using the `def` keyword.  \n",
    "- It can contain **multiple statements**, have **parameters**, and **return values**.  \n",
    "- It supports complex logic with loops, conditionals, and multiple lines of code.\n",
    "\n",
    "📌 **Analogy:**  \n",
    "- A **function** is like a **recipe**—you give it ingredients (parameters), and it processes them step by step to return a dish (output).  \n",
    "\n",
    "### **Example: Defining and Calling a Function**\n",
    "```python\n",
    "def add_numbers(a, b):\n",
    "    return a + b\n",
    "\n",
    "result = add_numbers(5, 10)\n",
    "print(result)  # Output: 15\n",
    "```\n",
    "✅ **Key Features of Functions:**\n",
    "- Can have **multiple statements**.\n",
    "- Can have **multiple parameters**.\n",
    "- Can have **a return statement**.\n",
    "\n",
    "---\n",
    "\n",
    "## **2. Lambda Expressions (`lambda` keyword)**\n",
    "📌 **Definition:**  \n",
    "- A **lambda expression** is an **anonymous (nameless) function** defined using the `lambda` keyword.  \n",
    "- It is **shorter** than a regular function and **contains only one expression**.  \n",
    "- It is mainly used for **short, simple operations**.  \n",
    "\n",
    "📌 **Analogy:**  \n",
    "- A **lambda function** is like a **calculator button**—you press it, and it gives an instant result without extra steps.  \n",
    "\n",
    "### **Example: Defining and Calling a Lambda Expression**\n",
    "```python\n",
    "add_numbers = lambda a, b: a + b\n",
    "print(add_numbers(5, 10))  # Output: 15\n",
    "```\n",
    "✅ **Key Features of Lambda Expressions:**\n",
    "- **Single-line** function.\n",
    "- **No `return` keyword** (it returns the result implicitly).\n",
    "- **No name** (unless assigned to a variable).\n",
    "- **Used for quick operations**.\n",
    "\n",
    "---\n",
    "\n",
    "## **3. Differences Between Functions and Lambda Expressions**\n",
    "| Feature | Functions (`def`) | Lambda Expressions (`lambda`) |\n",
    "|----------|----------------|-------------------|\n",
    "| **Syntax** | `def function_name(parameters): return value` | `lambda parameters: expression` |\n",
    "| **Readability** | More readable, can span multiple lines | Compact but less readable for complex logic |\n",
    "| **Complexity** | Can contain multiple statements (loops, conditions) | Only **one** expression (no loops, conditions) |\n",
    "| **Return Statement** | Uses `return` explicitly | Implicit return (no `return` keyword needed) |\n",
    "| **Naming** | Can be named and reused | Usually **anonymous** (unless assigned to a variable) |\n",
    "| **Use Cases** | Complex logic, reusable functions | Quick, one-time use cases (e.g., sorting, filtering) |\n",
    "\n",
    "---\n",
    "\n",
    "## **4. When to Use Functions vs. Lambda Expressions**\n",
    "| **Scenario** | **Use Function (`def`)** | **Use Lambda (`lambda`)** |\n",
    "|-------------|----------------------|-------------------|\n",
    "| **Multiple lines of code** | ✅ Yes | ❌ No |\n",
    "| **Complex logic (loops, if-else)** | ✅ Yes | ❌ No |\n",
    "| **Reusability** | ✅ Yes | ❌ No (unless assigned to a variable) |\n",
    "| **One-liner calculations** | ❌ No | ✅ Yes |\n",
    "| **Use inside `map()`, `filter()`, `sorted()`** | ❌ No | ✅ Yes |\n",
    "\n",
    "---\n",
    "\n",
    "## **5. Examples of When to Use Lambda Expressions**\n",
    "### **a) Using `lambda` in `map()` (Apply a function to each item in a list)**\n",
    "```python\n",
    "numbers = [1, 2, 3, 4]\n",
    "squared = list(map(lambda x: x ** 2, numbers))\n",
    "print(squared)  # Output: [1, 4, 9, 16]\n",
    "```\n",
    "- The lambda function **squares each number** in the list without needing a separate function.\n",
    "\n",
    "---\n",
    "\n",
    "### **b) Using `lambda` in `filter()` (Filter elements based on a condition)**\n",
    "```python\n",
    "numbers = [1, 2, 3, 4, 5, 6]\n",
    "even_numbers = list(filter(lambda x: x % 2 == 0, numbers))\n",
    "print(even_numbers)  # Output: [2, 4, 6]\n",
    "```\n",
    "- The lambda function **filters only even numbers** from the list.\n",
    "\n",
    "---\n",
    "\n",
    "### **c) Using `lambda` in `sorted()` (Custom sorting)**\n",
    "```python\n",
    "students = [(\"Alice\", 25), (\"Bob\", 22), (\"Charlie\", 23)]\n",
    "sorted_students = sorted(students, key=lambda x: x[1])  # Sort by age\n",
    "print(sorted_students)  \n",
    "# Output: [('Bob', 22), ('Charlie', 23), ('Alice', 25)]\n",
    "```\n",
    "- The lambda function **sorts students by their age**.\n",
    "\n",
    "---\n",
    "\n",
    "## **6. When NOT to Use Lambda Expressions**\n",
    "❌ **Avoid lambda when the logic is too complex.**  \n",
    "Example of a function that **should NOT** be written as a lambda:\n",
    "```python\n",
    "def factorial(n):\n",
    "    if n == 0:\n",
    "        return 1\n",
    "    else:\n",
    "        return n * factorial(n - 1)\n",
    "```\n",
    "This **cannot** be written as a lambda because it involves recursion and multiple statements.\n",
    "\n",
    "---\n",
    "\n",
    "## **7. Summary Table**\n",
    "| Feature | Function (`def`) | Lambda Expression (`lambda`) |\n",
    "|---------|----------------|----------------|\n",
    "| **Length** | Multiple lines | Single line |\n",
    "| **Return Keyword** | Required | Implicit |\n",
    "| **Reusability** | High | Low (except if assigned to a variable) |\n",
    "| **Complexity** | Supports loops, conditions, multiple statements | Only **one** expression |\n",
    "| **Common Use Cases** | Complex reusable functions | Quick operations in `map()`, `filter()`, `sorted()` |\n",
    "\n",
    "---\n",
    "### **Conclusion**\n",
    "- ✅ Use **functions (`def`)** when logic is complex, needs reusability, or involves multiple statements.\n",
    "- ✅ Use **lambda expressions (`lambda`)** for short, one-liner operations, especially inside `map()`, `filter()`, or `sorted()`.\n",
    "\n",
    "By choosing the right tool for the right job, you can **write cleaner and more efficient Python code**! 🚀"
   ]
  }
 ],
 "metadata": {
  "kernelspec": {
   "display_name": "Python 3",
   "language": "python",
   "name": "python3"
  },
  "language_info": {
   "codemirror_mode": {
    "name": "ipython",
    "version": 3
   },
   "file_extension": ".py",
   "mimetype": "text/x-python",
   "name": "python",
   "nbconvert_exporter": "python",
   "pygments_lexer": "ipython3",
   "version": "3.13.0"
  }
 },
 "nbformat": 4,
 "nbformat_minor": 2
}
