{
 "cells": [
  {
   "cell_type": "markdown",
   "metadata": {},
   "source": [
    "# `*args` and `**kwargs`\n",
    "\n",
    "Work with Python long enough, and eventually you will encounter `*args` and `**kwargs`. These strange terms show up as parameters in function definitions. What do they do? Let's review a simple function:\n",
    "\n",
    "- `args`: arguments\n",
    "- `kwargs`: keyword arguments"
   ]
  },
  {
   "cell_type": "code",
   "execution_count": 1,
   "metadata": {},
   "outputs": [
    {
     "data": {
      "text/plain": [
       "5.0"
      ]
     },
     "execution_count": 1,
     "metadata": {},
     "output_type": "execute_result"
    }
   ],
   "source": [
    "# Calculate the 5% value of the given arguments\n",
    "def myfunc(a,b):\n",
    "    # return (a + b)*.05\n",
    "    return sum((a,b))*.05\n",
    "\n",
    "myfunc(40,60)"
   ]
  },
  {
   "cell_type": "markdown",
   "metadata": {},
   "source": [
    "This function returns 5% of the sum of **a** and **b**. In this example, **a** and **b** are *positional* arguments; that is, 40 is assigned to **a** because it is the first argument, and 60 to **b**. Notice also that to work with multiple positional arguments in the `sum()` function we had to pass them in as a tuple.\n",
    "\n",
    "What if we want to work with more than two numbers? One way would be to assign a *lot* of parameters, and give each one a default value."
   ]
  },
  {
   "cell_type": "markdown",
   "metadata": {},
   "source": [
    "## Postional arguments and default arguments"
   ]
  },
  {
   "cell_type": "code",
   "execution_count": 3,
   "metadata": {},
   "outputs": [
    {
     "name": "stdout",
     "output_type": "stream",
     "text": [
      "40\n"
     ]
    }
   ],
   "source": [
    "# b=20 is said to be default argument\n",
    "# a  is a positional argument\n",
    "def sum_of_two(a, b=20):\n",
    "    return a + b\n",
    "\n",
    "res = sum_of_two(b=10, a=30)\n",
    "print(res)"
   ]
  },
  {
   "cell_type": "code",
   "execution_count": null,
   "metadata": {},
   "outputs": [
    {
     "ename": "SyntaxError",
     "evalue": "parameter without a default follows parameter with a default (2370035919.py, line 1)",
     "output_type": "error",
     "traceback": [
      "\u001b[1;36m  Cell \u001b[1;32mIn[4], line 1\u001b[1;36m\u001b[0m\n\u001b[1;33m    def sum_of_two(a=10, b): # SyntaxError: parameter without a default follows parameter with a default def sum_of_two(b , a=10):\u001b[0m\n\u001b[1;37m                         ^\u001b[0m\n\u001b[1;31mSyntaxError\u001b[0m\u001b[1;31m:\u001b[0m parameter without a default follows parameter with a default\n"
     ]
    }
   ],
   "source": [
    "# With default must always follow non-default argument\n",
    "def sum_of_two(a=10, b): # SyntaxError: parameter without a default follows parameter with a default; to fix; # def sum_of_two(b , a=10): \n",
    "    return a + b\n",
    "\n",
    "res = sum_of_two(b=10, a=30)\n",
    "print(res)"
   ]
  },
  {
   "cell_type": "markdown",
   "metadata": {},
   "source": [
    "The given Python code will raise a **SyntaxError** because **default arguments must always be placed after non-default arguments** in a function definition.  \n",
    "\n",
    "### **Issue in the Code**\n",
    "```python\n",
    "def sum_of_two(a=10, b):  # ❌ Incorrect: Default argument (a=10) before non-default (b)\n",
    "    return a + b\n",
    "```\n",
    "- Here, `a=10` is a **default argument**, while `b` is a **non-default argument**.\n",
    "- Python **does not allow** a default parameter (`a=10`) to come before a required (non-default) parameter (`b`).\n",
    "- This is because Python assigns arguments in order, and if a default argument appears first, it creates ambiguity.\n",
    "\n",
    "### **How to Fix**\n",
    "To correct the function definition, move the **non-default argument (`b`) before the default argument (`a=10`)**:\n",
    "```python\n",
    "def sum_of_two(b, a=10):  # ✅ Correct: Non-default first, then default\n",
    "    return a + b\n",
    "\n",
    "res = sum_of_two(b=10, a=30)\n",
    "print(res)  # Output: 40\n",
    "```\n",
    "\n",
    "### **Key Rule:**\n",
    "✅ **Non-default arguments must always come before default arguments.**"
   ]
  },
  {
   "cell_type": "code",
   "execution_count": 5,
   "metadata": {},
   "outputs": [
    {
     "data": {
      "text/plain": [
       "6.0"
      ]
     },
     "execution_count": 5,
     "metadata": {},
     "output_type": "execute_result"
    }
   ],
   "source": [
    "def myfunc(a=0,b=0,c=0,d=0,e=0):\n",
    "    return sum((a,b,c,d,e))*.05\n",
    "\n",
    "myfunc(40,60,20)"
   ]
  },
  {
   "cell_type": "markdown",
   "metadata": {},
   "source": [
    "Obviously this is not a very efficient solution, and that's where `*args` comes in.\n",
    "\n",
    "## `*args`\n",
    "\n",
    "When a function parameter starts with an asterisk, it allows for an *arbitrary number* of arguments, and the function takes them in as a tuple of values. Rewriting the above function:"
   ]
  },
  {
   "cell_type": "code",
   "execution_count": 7,
   "metadata": {},
   "outputs": [
    {
     "name": "stdout",
     "output_type": "stream",
     "text": [
      "1 2 3\n"
     ]
    }
   ],
   "source": [
    "a = (1, 2, 3)\n",
    "print(*a)"
   ]
  },
  {
   "cell_type": "code",
   "execution_count": 9,
   "metadata": {},
   "outputs": [
    {
     "name": "stdout",
     "output_type": "stream",
     "text": [
      "<class 'tuple'>\n",
      "6.0\n",
      "<class 'tuple'>\n",
      "5.0\n",
      "<class 'tuple'>\n",
      "2.0\n"
     ]
    }
   ],
   "source": [
    "def myfunc(*args):\n",
    "    print(type(args))\n",
    "    return sum(args)*.05\n",
    "\n",
    "print(myfunc(40,60,20))\n",
    "print(myfunc(40,60))\n",
    "print(myfunc(40))"
   ]
  },
  {
   "cell_type": "markdown",
   "metadata": {},
   "source": [
    "Notice how passing the keyword \"args\" into the `sum()` function did the same thing as a tuple of arguments.\n",
    "\n",
    "It is worth noting that the word \"args\" is itself arbitrary - any word will do so long as it's preceded by an asterisk. To demonstrate this:"
   ]
  },
  {
   "cell_type": "code",
   "execution_count": 4,
   "metadata": {},
   "outputs": [
    {
     "data": {
      "text/plain": [
       "6.0"
      ]
     },
     "execution_count": 4,
     "metadata": {},
     "output_type": "execute_result"
    }
   ],
   "source": [
    "def myfunc(*spam):\n",
    "    return sum(spam)*.05\n",
    "\n",
    "myfunc(40,60,20)"
   ]
  },
  {
   "cell_type": "markdown",
   "metadata": {},
   "source": [
    "## `**kwargs`\n",
    "\n",
    "Similarly, Python offers a way to handle arbitrary numbers of *keyworded* arguments. Instead of creating a tuple of values, `**kwargs` builds a dictionary of key/value pairs. For example:"
   ]
  },
  {
   "cell_type": "code",
   "execution_count": 12,
   "metadata": {},
   "outputs": [
    {
     "name": "stdout",
     "output_type": "stream",
     "text": [
      "<class 'dict'>\n",
      "{'fruit': 'pineapple'}\n",
      "My favorite fruit is pineapple\n"
     ]
    }
   ],
   "source": [
    "def myfunc(**kwargs):\n",
    "    print(type(kwargs))\n",
    "    print(kwargs)\n",
    "    if 'fruit' in kwargs:\n",
    "        print(f\"My favorite fruit is {kwargs['fruit']}\")  # review String Formatting and f-strings if this syntax is unfamiliar\n",
    "    else:\n",
    "        print(\"I don't like fruit\")\n",
    "        \n",
    "myfunc(fruit='pineapple')"
   ]
  },
  {
   "cell_type": "code",
   "execution_count": 13,
   "metadata": {},
   "outputs": [
    {
     "name": "stdout",
     "output_type": "stream",
     "text": [
      "<class 'dict'>\n",
      "{}\n",
      "I don't like fruit\n"
     ]
    }
   ],
   "source": [
    "myfunc()"
   ]
  },
  {
   "cell_type": "markdown",
   "metadata": {},
   "source": [
    "## `*args` and `**kwargs` combined\n",
    "\n",
    "You can pass `*args` and `**kwargs` into the same function, but `*args` have to appear before `**kwargs`"
   ]
  },
  {
   "cell_type": "code",
   "execution_count": 16,
   "metadata": {},
   "outputs": [
    {
     "name": "stdout",
     "output_type": "stream",
     "text": [
      "Help on method_descriptor:\n",
      "\n",
      "split(self, /, sep=None, maxsplit=-1)\n",
      "    Return a list of the substrings in the string, using sep as the separator string.\n",
      "\n",
      "      sep\n",
      "        The separator used to split the string.\n",
      "\n",
      "        When set to None (the default value), will split on any whitespace\n",
      "        character (including \\n \\r \\t \\f and spaces) and will discard\n",
      "        empty strings from the result.\n",
      "      maxsplit\n",
      "        Maximum number of splits.\n",
      "        -1 (the default value) means no limit.\n",
      "\n",
      "    Splitting starts at the front of the string and works to the end.\n",
      "\n",
      "    Note, str.split() is mainly useful for data that has been intentionally\n",
      "    delimited.  With natural text that includes punctuation, consider using\n",
      "    the regular expression module.\n",
      "\n"
     ]
    }
   ],
   "source": [
    "help(str.split)"
   ]
  },
  {
   "cell_type": "code",
   "execution_count": 20,
   "metadata": {},
   "outputs": [
    {
     "name": "stdout",
     "output_type": "stream",
     "text": [
      "['join', 'devops']\n"
     ]
    }
   ],
   "source": [
    "print('join devops'.split(sep=' '))"
   ]
  },
  {
   "cell_type": "code",
   "execution_count": 19,
   "metadata": {},
   "outputs": [
    {
     "name": "stdout",
     "output_type": "stream",
     "text": [
      "['j', 'o', 'i', 'n', 'd', 'e', 'v', 'o', 'p', 's']\n"
     ]
    }
   ],
   "source": [
    "print(list('joindevops'))"
   ]
  },
  {
   "cell_type": "code",
   "execution_count": 22,
   "metadata": {},
   "outputs": [
    {
     "name": "stdout",
     "output_type": "stream",
     "text": [
      "join devops\n"
     ]
    }
   ],
   "source": [
    "a = ['join', 'devops']\n",
    "print(' '.join(a))"
   ]
  },
  {
   "cell_type": "code",
   "execution_count": 23,
   "metadata": {},
   "outputs": [
    {
     "name": "stdout",
     "output_type": "stream",
     "text": [
      "I like eggs and spam and my favorite fruit is cherries\n",
      "May I have some orange juice?\n"
     ]
    }
   ],
   "source": [
    "def myfunc(*args, **kwargs):\n",
    "    if 'fruit' and 'juice' in kwargs:\n",
    "        print(f\"I like {' and '.join(args)} and my favorite fruit is {kwargs['fruit']}\")\n",
    "        print(f\"May I have some {kwargs['juice']} juice?\")\n",
    "    else:\n",
    "        pass\n",
    "        \n",
    "myfunc('eggs','spam',fruit='cherries',juice='orange')"
   ]
  },
  {
   "cell_type": "markdown",
   "metadata": {},
   "source": [
    "Placing keyworded arguments ahead of positional arguments raises an exception:"
   ]
  },
  {
   "cell_type": "code",
   "execution_count": 8,
   "metadata": {},
   "outputs": [
    {
     "ename": "SyntaxError",
     "evalue": "positional argument follows keyword argument (<ipython-input-8-fc6ff65addcc>, line 1)",
     "output_type": "error",
     "traceback": [
      "\u001b[1;36m  File \u001b[1;32m\"<ipython-input-8-fc6ff65addcc>\"\u001b[1;36m, line \u001b[1;32m1\u001b[0m\n\u001b[1;33m    myfunc(fruit='cherries',juice='orange','eggs','spam')\u001b[0m\n\u001b[1;37m                                          ^\u001b[0m\n\u001b[1;31mSyntaxError\u001b[0m\u001b[1;31m:\u001b[0m positional argument follows keyword argument\n"
     ]
    }
   ],
   "source": [
    "myfunc(fruit='cherries',juice='orange','eggs','spam')"
   ]
  },
  {
   "cell_type": "markdown",
   "metadata": {},
   "source": [
    "As with \"args\", you can use any name you'd like for keyworded arguments - \"kwargs\" is just a popular convention.\n",
    "\n",
    "That's it! Now you should understand how `*args` and `**kwargs` provide the flexibilty to work with arbitrary numbers of arguments!"
   ]
  },
  {
   "cell_type": "markdown",
   "metadata": {},
   "source": [
    "### **`*args` vs `**kwargs` in Python**  \n",
    "\n",
    "Both `*args` and `**kwargs` are used in function definitions to handle a variable number of arguments, but they have key differences in how they work.  \n",
    "\n",
    "---\n",
    "\n",
    "## **1. `*args` (Non-Keyword Arguments)**\n",
    "📌 **Purpose:**  \n",
    "- `*args` allows a function to accept any number of **positional (non-keyword) arguments**.  \n",
    "- The arguments are stored in a **tuple** inside the function.\n",
    "\n",
    "📌 **Analogy:**  \n",
    "- Think of `*args` as ordering **toppings on a pizza**.  \n",
    "- You can choose **any number of toppings**, but their names don’t matter.  \n",
    "\n",
    "### **Example:**\n",
    "```python\n",
    "def pizza_order(*args):\n",
    "    print(\"You have chosen these toppings:\", args)\n",
    "\n",
    "pizza_order(\"Pepperoni\", \"Mushrooms\", \"Olives\")\n",
    "```\n",
    "✅ **Output:**\n",
    "```\n",
    "You have chosen these toppings: ('Pepperoni', 'Mushrooms', 'Olives')\n",
    "```\n",
    "- The function accepts **any number of arguments**.\n",
    "- Inside the function, `args` is a **tuple**: `('Pepperoni', 'Mushrooms', 'Olives')`.\n",
    "\n",
    "---\n",
    "\n",
    "## **2. `**kwargs` (Keyword Arguments)**\n",
    "📌 **Purpose:**  \n",
    "- `**kwargs` allows a function to accept any number of **keyword (named) arguments**.  \n",
    "- The arguments are stored in a **dictionary** inside the function.\n",
    "\n",
    "📌 **Analogy:**  \n",
    "- Think of `**kwargs` as **filling out a form** where each field has a **name** and a **value**.  \n",
    "\n",
    "### **Example:**\n",
    "```python\n",
    "def order_summary(**kwargs):\n",
    "    print(\"Order Summary:\")\n",
    "    for key, value in kwargs.items():\n",
    "        print(f\"{key}: {value}\")\n",
    "\n",
    "order_summary(Size=\"Large\", Crust=\"Thin\", Cheese=\"Extra\", Topping=\"Mushrooms\")\n",
    "```\n",
    "✅ **Output:**\n",
    "```\n",
    "Order Summary:\n",
    "Size: Large\n",
    "Crust: Thin\n",
    "Cheese: Extra\n",
    "Topping: Mushrooms\n",
    "```\n",
    "- The function accepts **any number of named arguments**.\n",
    "- Inside the function, `kwargs` is a **dictionary**:\n",
    "  ```python\n",
    "  {'Size': 'Large', 'Crust': 'Thin', 'Cheese': 'Extra', 'Topping': 'Mushrooms'}\n",
    "  ```\n",
    "\n",
    "---\n",
    "\n",
    "## **Key Differences Between `*args` and `**kwargs`**\n",
    "| Feature | `*args` (Non-Keyword Arguments) | `**kwargs` (Keyword Arguments) |\n",
    "|---------|---------------------------------|--------------------------------|\n",
    "| Accepts | Any number of **positional arguments** | Any number of **keyword arguments** |\n",
    "| Data Type Inside Function | Tuple (`args`) | Dictionary (`kwargs`) |\n",
    "| Example Input | `pizza_order(\"Cheese\", \"Pepperoni\", \"Olives\")` | `order_summary(Size=\"Large\", Topping=\"Mushrooms\")` |\n",
    "| When to Use | When arguments don’t need names (list-like data) | When arguments need names (key-value pairs) |\n",
    "\n",
    "---\n",
    "\n",
    "## **3. Using `*args` and `**kwargs` Together**\n",
    "📌 **Order Rule:**  \n",
    "If both `*args` and `**kwargs` are used, **`*args` must come before `**kwargs`** in the function definition.\n",
    "\n",
    "### **Example:**\n",
    "```python\n",
    "def complete_order(name, *args, **kwargs):\n",
    "    print(f\"Order for: {name}\")\n",
    "    print(\"Toppings:\", args)  # Tuple of toppings\n",
    "    print(\"Additional Requests:\", kwargs)  # Dictionary of other details\n",
    "\n",
    "complete_order(\"John\", \"Pepperoni\", \"Mushrooms\", Size=\"Large\", Crust=\"Thin\")\n",
    "```\n",
    "✅ **Output:**\n",
    "```\n",
    "Order for: John\n",
    "Toppings: ('Pepperoni', 'Mushrooms')\n",
    "Additional Requests: {'Size': 'Large', 'Crust': 'Thin'}\n",
    "```\n",
    "\n",
    "---\n",
    "\n",
    "### **Summary**\n",
    "| Feature | `*args` | `**kwargs` |\n",
    "|---------|---------|------------|\n",
    "| Type | Tuple | Dictionary |\n",
    "| Accepts | Any number of **positional** arguments | Any number of **keyword** arguments |\n",
    "| Order in Function | Comes **before** `**kwargs` | Comes **after** `*args` |\n",
    "| Use Case | When number of arguments is unknown and don’t need names | When number of arguments is unknown but need names |\n",
    "\n",
    "By understanding `*args` and `**kwargs`, you can write **flexible and reusable functions** in Python! 🚀"
   ]
  }
 ],
 "metadata": {
  "kernelspec": {
   "display_name": "Python 3",
   "language": "python",
   "name": "python3"
  },
  "language_info": {
   "codemirror_mode": {
    "name": "ipython",
    "version": 3
   },
   "file_extension": ".py",
   "mimetype": "text/x-python",
   "name": "python",
   "nbconvert_exporter": "python",
   "pygments_lexer": "ipython3",
   "version": "3.13.0"
  }
 },
 "nbformat": 4,
 "nbformat_minor": 2
}
