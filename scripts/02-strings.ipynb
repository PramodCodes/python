{
 "cells": [
  {
   "cell_type": "markdown",
   "metadata": {},
   "source": [
    "# Strings"
   ]
  },
  {
   "cell_type": "markdown",
   "metadata": {},
   "source": [
    "- 'c' + 'a' + 't' = \"cat\"\n",
    "- A group of characters forms a word\n",
    "- A group of words from a string"
   ]
  },
  {
   "cell_type": "code",
   "execution_count": 2,
   "metadata": {},
   "outputs": [],
   "source": [
    "text = \"Python is awesome\""
   ]
  },
  {
   "cell_type": "markdown",
   "metadata": {},
   "source": [
    "## String indexing\n",
    "- Accessing individual characters defined in a string\n",
    "- Indexing in python starts at 0\n",
    "- Python supports -ve indexing\n",
    "- Strings supports linear indexing i.e. 0, 1, 2, 3, -1, -2, -3 etc as its a sequence of characters"
   ]
  },
  {
   "cell_type": "code",
   "execution_count": 3,
   "metadata": {},
   "outputs": [
    {
     "name": "stdout",
     "output_type": "stream",
     "text": [
      "P\n"
     ]
    }
   ],
   "source": [
    "print(text[0])"
   ]
  },
  {
   "cell_type": "code",
   "execution_count": 3,
   "metadata": {},
   "outputs": [
    {
     "name": "stdout",
     "output_type": "stream",
     "text": [
      "m\n"
     ]
    }
   ],
   "source": [
    "text = \"Python is awesome\"\n",
    "print(text[-2])"
   ]
  },
  {
   "cell_type": "markdown",
   "metadata": {},
   "source": []
  },
  {
   "cell_type": "markdown",
   "metadata": {},
   "source": [
    "## **Python String Manipulation**  \n",
    "\n",
    "Python provides a variety of ways to manipulate strings, including indexing, slicing, concatenation, formatting, and built-in string methods. Below is a detailed explanation of different string manipulation techniques.  \n",
    "\n",
    "---\n",
    "\n",
    "### **1. String Indexing**\n",
    "Strings in Python are sequences of characters, meaning you can access individual characters using their index. Indexing starts from **0** for the first character and moves forward.\n",
    "\n",
    "#### **Example:**\n",
    "```python\n",
    "text = \"Python\"\n",
    "print(text[0])  # Output: P\n",
    "print(text[3])  # Output: h\n",
    "```\n",
    "\n",
    "### **2. Reverse Indexing (Negative Indexing)**\n",
    "Python allows negative indexing, where `-1` represents the last character, `-2` represents the second last character, and so on.\n",
    "\n",
    "#### **Example:**\n",
    "```python\n",
    "text = \"Python\"\n",
    "print(text[-1])  # Output: n\n",
    "print(text[-3])  # Output: h\n",
    "```\n",
    "\n",
    "---\n",
    "\n",
    "### **3. String Slicing**\n",
    "Slicing extracts a substring using the syntax:\n",
    "```python\n",
    "string[start:stop:step]\n",
    "```\n",
    "- `start`: Starting index (inclusive)\n",
    "- `stop`: Ending index (exclusive)\n",
    "- `step`: Number of steps to jump\n",
    "\n",
    "#### **Example:**\n",
    "```python\n",
    "text = \"PythonProgramming\"\n",
    "\n",
    "print(text[0:6])   # Output: Python\n",
    "print(text[:6])    # Output: Python (start from index 0)\n",
    "print(text[6:])    # Output: Programming (till the end)\n",
    "print(text[0:15:2]) # Output: PtoPormig (every second character)\n",
    "```\n",
    "\n",
    "#### **Reverse a String using Slicing**\n",
    "```python\n",
    "text = \"Python\"\n",
    "print(text[::-1])  # Output: nohtyP\n",
    "```\n",
    "\n",
    "---\n",
    "\n",
    "### **4. String Concatenation**\n",
    "Combining multiple strings using the `+` operator.\n",
    "\n",
    "#### **Example:**\n",
    "```python\n",
    "str1 = \"Hello\"\n",
    "str2 = \" World\"\n",
    "result = str1 + str2\n",
    "print(result)  # Output: Hello World\n",
    "```\n",
    "\n",
    "---\n",
    "\n",
    "### **5. String Repetition**\n",
    "Repeating a string multiple times using `*`.\n",
    "\n",
    "#### **Example:**\n",
    "```python\n",
    "text = \"Hi \"\n",
    "print(text * 3)  # Output: Hi Hi Hi \n",
    "```\n",
    "\n",
    "---\n",
    "\n",
    "### **6. String Methods**\n",
    "Python provides several built-in methods for string manipulation.\n",
    "\n",
    "#### **Common String Methods**\n",
    "```python\n",
    "text = \"hello world\"\n",
    "\n",
    "print(text.upper())       # Output: HELLO WORLD\n",
    "print(text.lower())       # Output: hello world\n",
    "print(text.title())       # Output: Hello World\n",
    "print(text.capitalize())  # Output: Hello world\n",
    "print(text.replace(\"world\", \"Python\"))  # Output: hello Python\n",
    "print(text.strip())       # Removes leading and trailing spaces\n",
    "print(text.startswith(\"hello\"))  # Output: True\n",
    "print(text.endswith(\"d\")) # Output: True\n",
    "print(text.count(\"o\"))    # Output: 2\n",
    "print(text.find(\"world\")) # Output: 6\n",
    "```\n",
    "\n",
    "---\n",
    "\n",
    "### **7. Checking String Properties**\n",
    "Python allows checking whether a string contains specific properties.\n",
    "\n",
    "#### **Examples:**\n",
    "```python\n",
    "text = \"Python123\"\n",
    "\n",
    "print(text.isalpha())    # False (contains numbers)\n",
    "print(text.isdigit())    # False (contains letters)\n",
    "print(\"12345\".isdigit()) # True (only digits)\n",
    "print(\"hello\".isalpha()) # True (only letters)\n",
    "print(\"hello123\".isalnum()) # True (letters and numbers)\n",
    "print(\"   \".isspace())   # True (only spaces)\n",
    "```\n",
    "\n",
    "---\n",
    "\n",
    "### **8. Splitting and Joining Strings**\n",
    "- **Splitting:** Converts a string into a list of words using `split()`.\n",
    "- **Joining:** Converts a list back to a string using `join()`.\n",
    "\n",
    "#### **Example:**\n",
    "```python\n",
    "text = \"Python is fun\"\n",
    "words = text.split()  \n",
    "print(words)  # Output: ['Python', 'is', 'fun']\n",
    "\n",
    "new_text = \"-\".join(words)\n",
    "print(new_text)  # Output: Python-is-fun\n",
    "```\n",
    "\n",
    "---\n",
    "\n",
    "### **9. Formatting Strings**\n",
    "Python provides multiple ways to format strings.\n",
    "\n",
    "#### **Using `format()`**\n",
    "```python\n",
    "name = \"Alice\"\n",
    "age = 25\n",
    "print(\"My name is {} and I am {} years old.\".format(name, age))\n",
    "# Output: My name is Alice and I am 25 years old.\n",
    "```\n",
    "\n",
    "#### **Using f-strings (Python 3.6+)**\n",
    "```python\n",
    "print(f\"My name is {name} and I am {age} years old.\")\n",
    "# Output: My name is Alice and I am 25 years old.\n",
    "```\n",
    "\n",
    "---\n",
    "\n",
    "### **10. Reversing a String**\n",
    "#### **Using slicing**\n",
    "```python\n",
    "text = \"Python\"\n",
    "print(text[::-1])  # Output: nohtyP\n",
    "```\n",
    "#### **Using `reversed()`**\n",
    "```python\n",
    "text = \"Python\"\n",
    "print(\"\".join(reversed(text)))  # Output: nohtyP\n",
    "```\n",
    "\n",
    "#### **Using a loop**\n",
    "```python\n",
    "text = \"Python\"\n",
    "reversed_text = \"\"\n",
    "for char in text:\n",
    "    reversed_text = char + reversed_text\n",
    "print(reversed_text)  # Output: nohtyP\n",
    "```\n",
    "\n",
    "---\n",
    "\n",
    "### **Conclusion**\n",
    "Python provides powerful tools for string manipulation. You can:\n",
    "- Use **indexing and slicing** to access or modify substrings.\n",
    "- Utilize **concatenation and repetition** for string operations.\n",
    "- Apply **built-in methods** for formatting, searching, and modifying strings.\n",
    "- Work with **splitting and joining** for text processing.\n",
    "\n",
    "Would you like examples for any specific string operation? 🚀"
   ]
  },
  {
   "cell_type": "markdown",
   "metadata": {},
   "source": [
    "## String Slicing\n",
    "- Using this we can grab a set of characters\n",
    "- Syntax: [start:end]. Both start and end index are optional\n",
    "- **Important**: end index is not included in the output\n",
    "- One more variant: [start:end:step]"
   ]
  },
  {
   "cell_type": "code",
   "execution_count": 6,
   "metadata": {},
   "outputs": [
    {
     "name": "stdout",
     "output_type": "stream",
     "text": [
      "Python\n"
     ]
    }
   ],
   "source": [
    "text = \"Python is awesome\"\n",
    "print(text[0:6])"
   ]
  },
  {
   "cell_type": "code",
   "execution_count": null,
   "metadata": {},
   "outputs": [
    {
     "name": "stdout",
     "output_type": "stream",
     "text": [
      "Pto s\n"
     ]
    }
   ],
   "source": [
    "text = \"Python is awesome\"\n",
    "print(text[0:6:2]) # [0, 2, 4]"
   ]
  },
  {
   "cell_type": "markdown",
   "metadata": {},
   "source": [
    "The given Python code:\n",
    "\n",
    "```python\n",
    "text = \"Python is awesome\"\n",
    "print(text[::-1])\n",
    "```\n",
    "\n",
    "**Explanation:**\n",
    "- The slicing syntax in Python is `string[start:stop:step]`.\n",
    "- In this case, `[::-1]` means:\n",
    "  - **Start**: Default (beginning of the string).\n",
    "  - **Stop**: Default (end of the string).\n",
    "  - **Step**: `-1`, which means move backward one character at a time.\n",
    "\n",
    "### **Step-by-Step Execution**\n",
    "1. The original string: `\"Python is awesome\"`\n",
    "2. Applying `[::-1]` reverses the string:\n",
    "   ```\n",
    "   \"Python is awesome\"  →  \"emosewa si nohtyP\"\n",
    "   ```\n",
    "3. The reversed string is then printed.\n",
    "\n",
    "### **Output:**\n",
    "```\n",
    "emosewa si nohtyP\n",
    "```\n",
    "\n",
    "### **Alternative Ways to Reverse a String**\n",
    "#### **Using `reversed()` function**\n",
    "```python\n",
    "text = \"Python is awesome\"\n",
    "print(\"\".join(reversed(text)))\n",
    "```\n",
    "- `reversed(text)` returns a reversed iterator.\n",
    "- `\"\".join(reversed(text))` converts it back to a string.\n",
    "\n",
    "#### **Using a Loop**\n",
    "```python\n",
    "text = \"Python is awesome\"\n",
    "reversed_text = \"\"\n",
    "for char in text:\n",
    "    reversed_text = char + reversed_text  # Add each character at the beginning\n",
    "print(reversed_text)\n",
    "```\n",
    "\n",
    "Would you like me to explain any other approach? 🚀"
   ]
  },
  {
   "cell_type": "code",
   "execution_count": 4,
   "metadata": {},
   "outputs": [
    {
     "name": "stdout",
     "output_type": "stream",
     "text": [
      "emosewa si nohtyP\n"
     ]
    }
   ],
   "source": [
    "## How to reverse a string?\n",
    "text = \"Python is awesome\"\n",
    "print(text[::-1])"
   ]
  },
  {
   "cell_type": "code",
   "execution_count": 11,
   "metadata": {},
   "outputs": [
    {
     "name": "stdout",
     "output_type": "stream",
     "text": [
      "1723259376240 1723259376240 1723259376240\n",
      "True\n",
      "True\n"
     ]
    }
   ],
   "source": [
    "text = \"Python is awesome\"\n",
    "text1 = text[::]\n",
    "text2 = text\n",
    "\n",
    "print(id(text), id(text1), id(text2))\n",
    "\n",
    "print(text is text1)\n",
    "print(text2 is text)"
   ]
  },
  {
   "cell_type": "code",
   "execution_count": 1,
   "metadata": {
    "slideshow": {
     "slide_type": "slide"
    }
   },
   "outputs": [
    {
     "name": "stdout",
     "output_type": "stream",
     "text": [
      "thon is awesome\n"
     ]
    }
   ],
   "source": [
    "text = \"Python is awesome\"\n",
    "print(text[2:])"
   ]
  },
  {
   "cell_type": "code",
   "execution_count": 2,
   "metadata": {},
   "outputs": [
    {
     "name": "stdout",
     "output_type": "stream",
     "text": [
      "Pyt\n"
     ]
    }
   ],
   "source": [
    "text = \"Python is awesome\"\n",
    "print(text[:3])"
   ]
  },
  {
   "cell_type": "code",
   "execution_count": 3,
   "metadata": {},
   "outputs": [
    {
     "name": "stdout",
     "output_type": "stream",
     "text": [
      "Python is awesome\n"
     ]
    }
   ],
   "source": [
    "text = \"Python is awesome\"\n",
    "print(text[:])"
   ]
  },
  {
   "cell_type": "markdown",
   "metadata": {},
   "source": [
    "## String concatenation\n",
    "- Addition of strings"
   ]
  },
  {
   "cell_type": "code",
   "execution_count": 8,
   "metadata": {},
   "outputs": [
    {
     "name": "stdout",
     "output_type": "stream",
     "text": [
      "Hello World\n"
     ]
    }
   ],
   "source": [
    "str1 = \"Hello\"\n",
    "str2 = \"World\"\n",
    "result = str1 + \" \" + str2\n",
    "print(result)"
   ]
  },
  {
   "cell_type": "markdown",
   "metadata": {},
   "source": [
    "## Different methods on strings"
   ]
  },
  {
   "cell_type": "code",
   "execution_count": 10,
   "metadata": {},
   "outputs": [
    {
     "name": "stdout",
     "output_type": "stream",
     "text": [
      "Length of the string: 17\n"
     ]
    }
   ],
   "source": [
    "text = \"Python is awesome\"\n",
    "length = len(text)\n",
    "print(\"Length of the string:\", length)"
   ]
  },
  {
   "cell_type": "code",
   "execution_count": 11,
   "metadata": {},
   "outputs": [
    {
     "name": "stdout",
     "output_type": "stream",
     "text": [
      "Uppercase: PYTHON IS AWESOME\n",
      "Lowercase: python is awesome\n"
     ]
    }
   ],
   "source": [
    "text = \"Python is awesome\"\n",
    "uppercase = text.upper()\n",
    "lowercase = text.lower()\n",
    "print(\"Uppercase:\", uppercase)\n",
    "print(\"Lowercase:\", lowercase)"
   ]
  },
  {
   "cell_type": "markdown",
   "metadata": {},
   "source": [
    "- There are functions and methods that are defined in python\n",
    "- Functions can be applied to more than one datatype such as print(), len() etc\n",
    "- Methods can only be applied to a certain datatype as they're specific to that datatype"
   ]
  },
  {
   "cell_type": "code",
   "execution_count": 12,
   "metadata": {},
   "outputs": [
    {
     "name": "stdout",
     "output_type": "stream",
     "text": [
      "Modified text: Python is great\n"
     ]
    }
   ],
   "source": [
    "text = \"Python is awesome\"\n",
    "new_text = text.replace(\"awesome\", \"great\")\n",
    "print(\"Modified text:\", new_text)"
   ]
  },
  {
   "cell_type": "code",
   "execution_count": 13,
   "metadata": {},
   "outputs": [
    {
     "name": "stdout",
     "output_type": "stream",
     "text": [
      "Words: ['Python', 'is', 'awesome']\n"
     ]
    }
   ],
   "source": [
    "text = \"Python is awesome\"\n",
    "words = text.split()\n",
    "print(\"Words:\", words)"
   ]
  },
  {
   "cell_type": "code",
   "execution_count": 14,
   "metadata": {},
   "outputs": [
    {
     "name": "stdout",
     "output_type": "stream",
     "text": [
      "Stripped text: Some spaces around\n"
     ]
    }
   ],
   "source": [
    "text = \"   Some spaces around   \"\n",
    "stripped_text = text.strip()\n",
    "print(\"Stripped text:\", stripped_text)"
   ]
  },
  {
   "cell_type": "code",
   "execution_count": 15,
   "metadata": {},
   "outputs": [
    {
     "name": "stdout",
     "output_type": "stream",
     "text": [
      "True\n"
     ]
    }
   ],
   "source": [
    "text = \"Python is awesome\"\n",
    "substring = \"is\"\n",
    "res = substring in text\n",
    "print(res)"
   ]
  },
  {
   "cell_type": "markdown",
   "metadata": {},
   "source": [
    "## String properties\n",
    "It's important to note that strings have an important property known as:\n",
    "- *immutability*: This means that once a string is created, the elements within it can not be changed or replaced.\n",
    "- *mutability*: This means that once an object is created, the elements within it can be changed or replaced."
   ]
  },
  {
   "cell_type": "code",
   "execution_count": 1,
   "metadata": {},
   "outputs": [
    {
     "ename": "TypeError",
     "evalue": "'str' object does not support item assignment",
     "output_type": "error",
     "traceback": [
      "\u001b[1;31m---------------------------------------------------------------------------\u001b[0m",
      "\u001b[1;31mTypeError\u001b[0m                                 Traceback (most recent call last)",
      "Cell \u001b[1;32mIn[1], line 4\u001b[0m\n\u001b[0;32m      1\u001b[0m text \u001b[38;5;241m=\u001b[39m \u001b[38;5;124m\"\u001b[39m\u001b[38;5;124mPython is awesome\u001b[39m\u001b[38;5;124m\"\u001b[39m\n\u001b[0;32m      3\u001b[0m \u001b[38;5;66;03m# Let's try to change the first letter to 'p'\u001b[39;00m\n\u001b[1;32m----> 4\u001b[0m \u001b[43mtext\u001b[49m\u001b[43m[\u001b[49m\u001b[38;5;241;43m0\u001b[39;49m\u001b[43m]\u001b[49m \u001b[38;5;241m=\u001b[39m \u001b[38;5;124m'\u001b[39m\u001b[38;5;124mp\u001b[39m\u001b[38;5;124m'\u001b[39m\n",
      "\u001b[1;31mTypeError\u001b[0m: 'str' object does not support item assignment"
     ]
    }
   ],
   "source": [
    "text = \"Python is awesome\"\n",
    "\n",
    "# Let's try to change the first letter to 'p'\n",
    "text[0] = 'p'"
   ]
  },
  {
   "cell_type": "code",
   "execution_count": null,
   "metadata": {},
   "outputs": [],
   "source": [
    "# Concatenate strings!\n",
    "text = text + ' concatenate me!'\n",
    "print(text)"
   ]
  },
  {
   "cell_type": "code",
   "execution_count": 5,
   "metadata": {},
   "outputs": [
    {
     "name": "stdout",
     "output_type": "stream",
     "text": [
      "12\n"
     ]
    }
   ],
   "source": [
    "text = '1' + '2'\n",
    "print(text)"
   ]
  },
  {
   "cell_type": "code",
   "execution_count": 3,
   "metadata": {},
   "outputs": [
    {
     "ename": "TypeError",
     "evalue": "can only concatenate str (not \"int\") to str",
     "output_type": "error",
     "traceback": [
      "\u001b[1;31m---------------------------------------------------------------------------\u001b[0m",
      "\u001b[1;31mTypeError\u001b[0m                                 Traceback (most recent call last)",
      "Cell \u001b[1;32mIn[3], line 2\u001b[0m\n\u001b[0;32m      1\u001b[0m text \u001b[38;5;241m=\u001b[39m \u001b[38;5;124m\"\u001b[39m\u001b[38;5;124mPython is awesome\u001b[39m\u001b[38;5;124m\"\u001b[39m\n\u001b[1;32m----> 2\u001b[0m res \u001b[38;5;241m=\u001b[39m \u001b[43mtext\u001b[49m\u001b[43m \u001b[49m\u001b[38;5;241;43m+\u001b[39;49m\u001b[43m \u001b[49m\u001b[38;5;241;43m123\u001b[39;49m\n\u001b[0;32m      3\u001b[0m \u001b[38;5;28mprint\u001b[39m(res)\n",
      "\u001b[1;31mTypeError\u001b[0m: can only concatenate str (not \"int\") to str"
     ]
    }
   ],
   "source": [
    "text = \"Python is awesome\"\n",
    "res = text + 123\n",
    "print(res)"
   ]
  },
  {
   "cell_type": "markdown",
   "metadata": {},
   "source": [
    "We can use the multiplication symbol to create repetition!"
   ]
  },
  {
   "cell_type": "code",
   "execution_count": 2,
   "metadata": {},
   "outputs": [
    {
     "name": "stdout",
     "output_type": "stream",
     "text": [
      "zzzzzzzzzz\n"
     ]
    }
   ],
   "source": [
    "letter = 'z'\n",
    "print(letter * 10)"
   ]
  },
  {
   "cell_type": "markdown",
   "metadata": {},
   "source": [
    "## Print formatting"
   ]
  },
  {
   "cell_type": "code",
   "execution_count": 13,
   "metadata": {},
   "outputs": [
    {
     "name": "stdout",
     "output_type": "stream",
     "text": [
      "Insert another string with curly brackets: The inserted string\n"
     ]
    }
   ],
   "source": [
    "print('Insert another string with curly brackets: {}'.format('The inserted string'))"
   ]
  },
  {
   "cell_type": "code",
   "execution_count": 1,
   "metadata": {},
   "outputs": [
    {
     "name": "stdout",
     "output_type": "stream",
     "text": [
      "Insert another The inserted string string with curly brackets:\n"
     ]
    }
   ],
   "source": [
    "sample = 'The inserted string'\n",
    "print(f'Insert another string with curly brackets: {sample}')"
   ]
  }
 ],
 "metadata": {
  "kernelspec": {
   "display_name": "Python 3",
   "language": "python",
   "name": "python3"
  },
  "language_info": {
   "codemirror_mode": {
    "name": "ipython",
    "version": 3
   },
   "file_extension": ".py",
   "mimetype": "text/x-python",
   "name": "python",
   "nbconvert_exporter": "python",
   "pygments_lexer": "ipython3",
   "version": "3.13.0"
  }
 },
 "nbformat": 4,
 "nbformat_minor": 2
}
